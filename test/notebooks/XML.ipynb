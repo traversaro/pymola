{
 "cells": [
  {
   "cell_type": "code",
   "execution_count": 65,
   "metadata": {},
   "outputs": [
    {
     "name": "stdout",
     "output_type": "stream",
     "text": [
      "The autoreload extension is already loaded. To reload it, use:\n",
      "  %reload_ext autoreload\n"
     ]
    }
   ],
   "source": [
    "%load_ext autoreload\n",
    "%autoreload 2\n",
    "%matplotlib inline\n",
    "import sys\n",
    "import casadi as ca\n",
    "import os\n",
    "import matplotlib.pyplot as plt\n",
    "sys.path.insert(0, '../../src')"
   ]
  },
  {
   "cell_type": "code",
   "execution_count": 66,
   "metadata": {},
   "outputs": [],
   "source": [
    "from pymola.backends.xml import modelica_xml_parser, hybrid_dae, sim_scipy"
   ]
  },
  {
   "cell_type": "code",
   "execution_count": 67,
   "metadata": {},
   "outputs": [],
   "source": [
    "parser = modelica_xml_parser.XMLParser(\n",
    "    modelica_xml_parser.SCHEMA_DIR, 'Modelica.xsd')\n",
    "example_file = os.path.join(\n",
    "    modelica_xml_parser.FILE_PATH, 'bouncing-ball.xml')\n",
    "root = parser.read_file(example_file)\n",
    "listener = modelica_xml_parser.ModelListener(verbose=False)\n",
    "modelica_xml_parser.walk(root, listener)\n",
    "model = listener.model[root][0]  # type: HybridDae"
   ]
  },
  {
   "cell_type": "code",
   "execution_count": 68,
   "metadata": {},
   "outputs": [
    {
     "data": {
      "text/plain": [
       "\n",
       "c     (  1):\tc_0\n",
       "dx    (  2):\t[der(x), der(v)]\n",
       "f_c   (  1):\t(x<0)\n",
       "f_m   (  0):\t[]\n",
       "f_x   (  2):\t[(der(x)-v), (der(v)+g)]\n",
       "m     (  0):\t[]\n",
       "p     (  2):\t[g, c]\n",
       "pre_m (  0):\t[]\n",
       "x     (  2):\t[x, v]\n",
       "y     (  0):\t[]"
      ]
     },
     "execution_count": 68,
     "metadata": {},
     "output_type": "execute_result"
    }
   ],
   "source": [
    "model"
   ]
  },
  {
   "cell_type": "code",
   "execution_count": 69,
   "metadata": {},
   "outputs": [
    {
     "data": {
      "text/plain": [
       "\n",
       "c     (  1):\tc_0\n",
       "dx    (  2):\t[der(x), der(v)]\n",
       "f_c   (  1):\t(x<0)\n",
       "f_m   (  0):\t[]\n",
       "f_x_rhs(  2):\t[v, (-g)]\n",
       "g_rhs (  0):\t0x1\n",
       "m     (  0):\t[]\n",
       "p     (  2):\t[g, c]\n",
       "pre_m (  0):\t[]\n",
       "x     (  2):\t[x, v]"
      ]
     },
     "execution_count": 69,
     "metadata": {},
     "output_type": "execute_result"
    }
   ],
   "source": [
    "model_ode = model.to_ode()\n",
    "model_ode"
   ]
  },
  {
   "cell_type": "code",
   "execution_count": 73,
   "metadata": {},
   "outputs": [
    {
     "data": {
      "image/png": "[encoded data removed]",
      "text/plain": [
       "<matplotlib.figure.Figure at 0x7fa2f3892da0>"
      ]
     },
     "metadata": {},
     "output_type": "display_data"
    }
   ],
   "source": [
    "data = sim_scipy.sim(model_ode, {'tf': 2})\n",
    "plt.plot(data['t'], data['x'])\n",
    "plt.grid()"
   ]
  },
  {
   "cell_type": "code",
   "execution_count": null,
   "metadata": {},
   "outputs": [],
   "source": []
  }
 ],
 "metadata": {
  "kernelspec": {
   "display_name": "Python 3",
   "language": "python",
   "name": "python3"
  },
  "language_info": {
   "codemirror_mode": {
    "name": "ipython",
    "version": 3
   },
   "file_extension": ".py",
   "mimetype": "text/x-python",
   "name": "python",
   "nbconvert_exporter": "python",
   "pygments_lexer": "ipython3",
   "version": "3.6.3"
  }
 },
 "nbformat": 4,
 "nbformat_minor": 2
}
