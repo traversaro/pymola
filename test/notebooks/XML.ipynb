{
 "cells": [
  {
   "cell_type": "code",
   "execution_count": 79,
   "metadata": {},
   "outputs": [
    {
     "name": "stdout",
     "output_type": "stream",
     "text": [
      "The autoreload extension is already loaded. To reload it, use:\n",
      "  %reload_ext autoreload\n"
     ]
    }
   ],
   "source": [
    "%load_ext autoreload\n",
    "%autoreload 2\n",
    "import sys\n",
    "import casadi as ca\n",
    "import os\n",
    "sys.path.insert(0, '../../src')"
   ]
  },
  {
   "cell_type": "code",
   "execution_count": 80,
   "metadata": {},
   "outputs": [],
   "source": [
    "from pymola.backends.xml import modelica_xml_parser, hybrid_dae"
   ]
  },
  {
   "cell_type": "code",
   "execution_count": 81,
   "metadata": {},
   "outputs": [],
   "source": [
    "parser = modelica_xml_parser.XMLParser(\n",
    "    modelica_xml_parser.SCHEMA_DIR, 'Modelica.xsd')\n",
    "example_file = os.path.join(\n",
    "    modelica_xml_parser.FILE_PATH, 'bouncing-ball.xml')\n",
    "root = parser.read_file(example_file)\n",
    "listener = modelica_xml_parser.ModelListener(verbose=False)\n",
    "modelica_xml_parser.walk(root, listener)\n",
    "model = listener.model[root][0]  # type: HybridDae"
   ]
  },
  {
   "cell_type": "code",
   "execution_count": 82,
   "metadata": {},
   "outputs": [
    {
     "data": {
      "text/plain": [
       "\n",
       "x     (  2):\t[x, v]\n",
       "dx    (  2):\t[der(x), der(v)]\n",
       "m     (  0):\t[]\n",
       "pre_m (  0):\t[]\n",
       "y     (  0):\t[]\n",
       "p     (  2):\t[g, c]\n",
       "c     (  1):\tc_0\n",
       "f_c   (  1):\t(x<0)\n",
       "f_m   (  0):\t[]\n",
       "f_x   (  2):\t[(der(x)-v), (der(v)+g)]\n",
       "{\n",
       "  \"g\": {\n",
       "    \"start\": null,\n",
       "    \"fixed\": null,\n",
       "    \"value\": 9.8,\n",
       "    \"variability\": \"parameter\",\n",
       "    \"visibility\": \"public\"\n",
       "  },\n",
       "  \"c\": {\n",
       "    \"start\": null,\n",
       "    \"fixed\": null,\n",
       "    \"value\": 0.9,\n",
       "    \"variability\": \"parameter\",\n",
       "    \"visibility\": \"public\"\n",
       "  },\n",
       "  \"x\": {\n",
       "    \"start\": null,\n",
       "    \"fixed\": null,\n",
       "    \"value\": 10.0,\n",
       "    \"variability\": \"continuous\",\n",
       "    \"visibility\": \"public\"\n",
       "  },\n",
       "  \"v\": {\n",
       "    \"start\": 0.0,\n",
       "    \"fixed\": true,\n",
       "    \"value\": null,\n",
       "    \"variability\": \"continuous\",\n",
       "    \"visibility\": \"public\"\n",
       "  }\n",
       "}"
      ]
     },
     "execution_count": 82,
     "metadata": {},
     "output_type": "execute_result"
    }
   ],
   "source": [
    "model"
   ]
  },
  {
   "cell_type": "code",
   "execution_count": null,
   "metadata": {},
   "outputs": [],
   "source": [
    "def blt_solve(f, x):\n",
    "    n_block, row_perm, col_perm, row_block, col_block, row_coarse, col_coarse = A.sparsity().btf()\n",
    "    "
   ]
  },
  {
   "cell_type": "code",
   "execution_count": 75,
   "metadata": {},
   "outputs": [
    {
     "data": {
      "text/plain": [
       "SX([(-v), g])"
      ]
     },
     "execution_count": 75,
     "metadata": {},
     "output_type": "execute_result"
    }
   ],
   "source": [
    "def make_explicit(model):\n",
    "    f_x_res = ca.substitute(model.f_x, model.dx, 0)\n",
    "    J = ca.jacobian(model.f_x, model.dx)\n",
    "    n_block, row_perm, col_perm, row_block, col_block, row_coarse, col_coarse = J.sparsity().btf()\n",
    "    \n",
    "    ode = ca.solve(ca.jacobian(model.f_x, model.dx), f_x_res)\n",
    "    return ode\n",
    "\n",
    "make_explicit(model)"
   ]
  },
  {
   "cell_type": "code",
   "execution_count": null,
   "metadata": {},
   "outputs": [],
   "source": [
    "ca.solve()"
   ]
  },
  {
   "cell_type": "code",
   "execution_count": 73,
   "metadata": {},
   "outputs": [
    {
     "data": {
      "text/plain": [
       "SX([(-v), g])"
      ]
     },
     "execution_count": 73,
     "metadata": {},
     "output_type": "execute_result"
    }
   ],
   "source": [
    "f_x_res"
   ]
  },
  {
   "cell_type": "code",
   "execution_count": null,
   "metadata": {},
   "outputs": [],
   "source": []
  },
  {
   "cell_type": "code",
   "execution_count": 91,
   "metadata": {},
   "outputs": [
    {
     "data": {
      "text/plain": [
       "SX(1)"
      ]
     },
     "execution_count": 91,
     "metadata": {},
     "output_type": "execute_result"
    }
   ],
   "source": [
    "x = ca.SX.sym('x')\n",
    "ca.simplify((x*x)/(x*x))"
   ]
  },
  {
   "cell_type": "code",
   "execution_count": 18,
   "metadata": {},
   "outputs": [
    {
     "data": {
      "text/plain": [
       "SX([x, x, x])"
      ]
     },
     "execution_count": 18,
     "metadata": {},
     "output_type": "execute_result"
    }
   ],
   "source": [
    "ca.vertcat(x, ca.vertcat(*[x, x]))"
   ]
  },
  {
   "cell_type": "code",
   "execution_count": 12,
   "metadata": {},
   "outputs": [
    {
     "data": {
      "text/plain": [
       "(2, 1)"
      ]
     },
     "execution_count": 12,
     "metadata": {},
     "output_type": "execute_result"
    }
   ],
   "source": [
    "vf.shape"
   ]
  },
  {
   "cell_type": "code",
   "execution_count": null,
   "metadata": {},
   "outputs": [],
   "source": []
  }
 ],
 "metadata": {
  "kernelspec": {
   "display_name": "Python 3",
   "language": "python",
   "name": "python3"
  },
  "language_info": {
   "codemirror_mode": {
    "name": "ipython",
    "version": 3
   },
   "file_extension": ".py",
   "mimetype": "text/x-python",
   "name": "python",
   "nbconvert_exporter": "python",
   "pygments_lexer": "ipython3",
   "version": "3.6.3"
  }
 },
 "nbformat": 4,
 "nbformat_minor": 2
}
