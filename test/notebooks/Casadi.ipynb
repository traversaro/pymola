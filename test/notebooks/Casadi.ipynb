{
 "cells": [
  {
   "cell_type": "markdown",
   "metadata": {},
   "source": [
    "# Casadi Pymola Demo"
   ]
  },
  {
   "cell_type": "code",
   "execution_count": 244,
   "metadata": {},
   "outputs": [],
   "source": [
    "%matplotlib inline\n",
    "from pymola.backends.casadi.api import transfer_model\n",
    "import numpy as np\n",
    "import casadi as ca\n",
    "import matplotlib.pyplot as plt"
   ]
  },
  {
   "cell_type": "markdown",
   "metadata": {},
   "source": [
    "First, we load a simple exponential model."
   ]
  },
  {
   "cell_type": "code",
   "execution_count": 245,
   "metadata": {},
   "outputs": [],
   "source": [
    "model = transfer_model('../models/', 'Exponential', {})"
   ]
  },
  {
   "cell_type": "code",
   "execution_count": 246,
   "metadata": {},
   "outputs": [
    {
     "data": {
      "text/plain": [
       "Model\n",
       "time: time\n",
       "states: [x[1,1]:float]\n",
       "der_states: [der(x)[1,1]:float]\n",
       "alg_states: []\n",
       "inputs: [u[1,1]:float]\n",
       "outputs: []\n",
       "constants: []\n",
       "parameters: []\n",
       "equations: [MX((der(x)-(u-x)))]\n",
       "initial equations: []"
      ]
     },
     "execution_count": 246,
     "metadata": {},
     "output_type": "execute_result"
    }
   ],
   "source": [
    "model"
   ]
  },
  {
   "cell_type": "markdown",
   "metadata": {},
   "source": [
    "## Optimal Control"
   ]
  },
  {
   "cell_type": "markdown",
   "metadata": {},
   "source": [
    "We wish to find an optimal input sequence $U$ so that we reach $x=1$ at $t=1$.\n",
    "\n",
    "subject to:\n",
    "\n",
    "$ \\dot{x} = f(t, x, u_k) $\n",
    "\n"
   ]
  },
  {
   "cell_type": "code",
   "execution_count": 247,
   "metadata": {},
   "outputs": [
    {
     "name": "stdout",
     "output_type": "stream",
     "text": [
      "               t_proc [s]   t_wall [s]    n_eval\n",
      "         nlp      0.00446      0.00446         1\n",
      "       nlp_f      2.4e-05     2.28e-05        10\n",
      "       nlp_g     0.000234     0.000233        10\n",
      "  nlp_grad_f        6e-05     5.83e-05        11\n",
      "  nlp_hess_l     0.000467     0.000467         9\n",
      "   nlp_jac_g     0.000932     0.000934        11\n"
     ]
    }
   ],
   "source": [
    "dae = model.dae_residual_function\n",
    "X0 = model.states[0].start\n",
    "\n",
    "# Discretization time step\n",
    "dt = 0.1\n",
    "tf = 1\n",
    "N = int(tf/dt)\n",
    "\n",
    "# Optimization variables and bounds\n",
    "X = ca.MX.sym('X', N)\n",
    "lbX = np.full(N, -np.inf)\n",
    "ubX = np.full(N, np.inf)\n",
    "\n",
    "U = ca.MX.sym('U', N)\n",
    "lbU = np.full(N, 0)\n",
    "ubU = np.full(N, 1.75)\n",
    "\n",
    "# Collocate DAE using backwards Euler method\n",
    "g = []\n",
    "i = 0\n",
    "res = dae(0, X[0], (X[0] - X0) / dt, U[0], U[i], ca.MX(), ca.MX())\n",
    "g.append(res)\n",
    "for i in range(1, N):\n",
    "    res = dae(i * dt, X[i], (X[i] - X[i - 1]) / dt, ca.MX(), U[i], ca.MX(), ca.MX())\n",
    "    g.append(res)\n",
    "    \n",
    "# Optimization objective\n",
    "f = (X[-1] - 1.0)**2\n",
    "\n",
    "# Solve NLP\n",
    "nlp = {'x': ca.vertcat(X, U), 'f': f, 'g': ca.vertcat(*g)}\n",
    "ipopt_options = {'tol': 1e-6, 'print_level': 1}\n",
    "solver = ca.nlpsol('nlp', 'ipopt', nlp, {'ipopt': ipopt_options})\n",
    "solution = solver(lbx=ca.vertcat(lbX, lbU), ubx=ca.vertcat(ubX, ubU), lbg=0, ubg=0)\n",
    "T = np.linspace(0, N * dt, N + 1)\n",
    "X = solution['x'][0:N]\n",
    "X = np.vstack([[X0], X])[:, 0]\n",
    "U = solution['x'][N:2*N]\n",
    "U = np.vstack([U, [U[-1]]])[:, 0]"
   ]
  },
  {
   "cell_type": "markdown",
   "metadata": {},
   "source": [
    "# Simulation"
   ]
  },
  {
   "cell_type": "markdown",
   "metadata": {},
   "source": [
    "Using our optimal input, we create a function to implement the optimal control law for our system."
   ]
  },
  {
   "cell_type": "code",
   "execution_count": 248,
   "metadata": {},
   "outputs": [
    {
     "data": {
      "text/plain": [
       "array(1.53393165)"
      ]
     },
     "execution_count": 248,
     "metadata": {},
     "output_type": "execute_result"
    }
   ],
   "source": [
    "import scipy.interpolate\n",
    "u_interp = scipy.interpolate.interp1d(T, U, kind=\"zero\", fill_value=\"extrapolate\")\n",
    "def f_control(t, x, p):\n",
    "    # we choose to disengage input after 1 second\n",
    "    if t<0 or t>1:\n",
    "        u = 0\n",
    "    else:\n",
    "        u = u_interp(t)\n",
    "    return u\n",
    "f_control(0, 1, {})"
   ]
  },
  {
   "cell_type": "markdown",
   "metadata": {},
   "source": [
    "Now we simulate the system. Note we can use a much smaller time step if necessary here than in the optimizaiton problem and see what happens."
   ]
  },
  {
   "cell_type": "code",
   "execution_count": 249,
   "metadata": {},
   "outputs": [],
   "source": [
    "data = model.sim(dt=0.001, tf=1.5, x0=0, f_u = f_control)"
   ]
  },
  {
   "cell_type": "markdown",
   "metadata": {},
   "source": [
    "Finally, we can plot the results. Notice that our discretized points from the optimization problem are plotted on top of the simulation results as points. The simulation result is plotted as a line. We choose to disengage the input after 2 seconds, so the state decays."
   ]
  },
  {
   "cell_type": "code",
   "execution_count": 250,
   "metadata": {},
   "outputs": [
    {
     "data": {
      "image/png": "[encoded data removed]",
      "text/plain": [
       "<matplotlib.figure.Figure at 0x7f38e38f37b8>"
      ]
     },
     "metadata": {},
     "output_type": "display_data"
    }
   ],
   "source": [
    "def plot_data(data):\n",
    "    plt.plot(data['t'], data['x'], 'r-', label=\"$x$\")\n",
    "    plt.plot(data['t'], data['u'], 'k-', label=\"$u$\")\n",
    "    plt.plot(T, X, 'k.', label=\"$x_{d}$\")\n",
    "    plt.plot(T, U, 'r.', label=\"$u_{d}$\")\n",
    "    plt.plot(1, 1, label=\"goal\", color='green', marker='*', markersize=20)\n",
    "    plt.grid()\n",
    "    plt.legend()\n",
    "    plt.xlabel('t')\n",
    "    plt.title('simulation');\n",
    "\n",
    "plt.figure(figsize=(15, 10))\n",
    "plot_data(data)"
   ]
  }
 ],
 "metadata": {
  "kernelspec": {
   "display_name": "Python 3",
   "language": "python",
   "name": "python3"
  },
  "language_info": {
   "codemirror_mode": {
    "name": "ipython",
    "version": 3
   },
   "file_extension": ".py",
   "mimetype": "text/x-python",
   "name": "python",
   "nbconvert_exporter": "python",
   "pygments_lexer": "ipython3",
   "version": "3.6.3"
  }
 },
 "nbformat": 4,
 "nbformat_minor": 2
}
